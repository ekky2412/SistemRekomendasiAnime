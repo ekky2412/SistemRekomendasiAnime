{
 "cells": [
  {
   "cell_type": "markdown",
   "metadata": {},
   "source": [
    "# Import Library"
   ]
  },
  {
   "cell_type": "code",
   "execution_count": null,
   "metadata": {},
   "outputs": [],
   "source": [
    "import pickle\n",
    "import pandas as pd\n",
    "import numpy as np\n",
    "import scipy\n",
    "import matplotlib.pyplot as plt"
   ]
  },
  {
   "cell_type": "markdown",
   "metadata": {},
   "source": [
    "# Import Data User, Anime, UserAnime"
   ]
  },
  {
   "cell_type": "code",
   "execution_count": null,
   "metadata": {},
   "outputs": [],
   "source": [
    "filename = \"users_data\"\n",
    "UsersDF = pickle.load(open(filename,'rb'))\n",
    "\n",
    "filename = \"animes_data\"\n",
    "AnimesDF = pickle.load(open(filename,'rb'))\n",
    "\n",
    "filename = \"scores_data\"\n",
    "ScoresDF = pickle.load(open(filename,'rb'))"
   ]
  },
  {
   "cell_type": "markdown",
   "metadata": {},
   "source": [
    "# Membuat User-Item Matriks Berdasarkan Status"
   ]
  },
  {
   "cell_type": "code",
   "execution_count": null,
   "metadata": {},
   "outputs": [],
   "source": [
    "train_data_matrix = UsersDF.pivot(index='username',columns='anime_id',values='my_status')\n",
    "train_data_matrix = train_data_matrix.replace(np.nan,0)\n",
    "train_data_matrix"
   ]
  }
 ],
 "metadata": {
  "language_info": {
   "name": "python"
  },
  "orig_nbformat": 4
 },
 "nbformat": 4,
 "nbformat_minor": 2
}
