{
 "cells": [
  {
   "cell_type": "markdown",
   "metadata": {},
   "source": [
    "# Import Library"
   ]
  },
  {
   "cell_type": "code",
   "execution_count": null,
   "metadata": {},
   "outputs": [],
   "source": [
    "import pickle\n",
    "import pandas as pd\n",
    "import numpy as np\n",
    "import scipy\n",
    "import matplotlib.pyplot as plt"
   ]
  },
  {
   "cell_type": "markdown",
   "metadata": {},
   "source": [
    "# Import Data User, Anime, UserAnime"
   ]
  },
  {
   "cell_type": "code",
   "execution_count": null,
   "metadata": {},
   "outputs": [],
   "source": [
    "filename = \"users_data\"\n",
    "UsersDF = pickle.load(open(filename,'rb'))\n",
    "\n",
    "filename = \"animes_data\"\n",
    "AnimesDF = pickle.load(open(filename,'rb'))\n",
    "\n",
    "filename = \"scores_data\"\n",
    "ScoresDF = pickle.load(open(filename,'rb'))"
   ]
  },
  {
   "cell_type": "markdown",
   "metadata": {},
   "source": [
    "# Membuat User-Item Matriks Berdasarkan Rating\n",
    "Serta mengisi data yang kosong dengan 0"
   ]
  },
  {
   "cell_type": "code",
   "execution_count": null,
   "metadata": {},
   "outputs": [],
   "source": [
    "UserItemRatingMatrix = UsersDF.pivot(index='username',columns='anime_id',values='my_score')\n",
    "UserItemRatingMatrix = UserItemRatingMatrix.replace(np.nan,0)\n",
    "UserItemRatingMatrix"
   ]
  },
  {
   "cell_type": "markdown",
   "metadata": {},
   "source": [
    "# Menghitung Similarity Antar User\n",
    "Menggunakan Pearson Similarity"
   ]
  },
  {
   "cell_type": "code",
   "execution_count": null,
   "metadata": {},
   "outputs": [],
   "source": []
  }
 ],
 "metadata": {
  "language_info": {
   "name": "python"
  },
  "orig_nbformat": 4
 },
 "nbformat": 4,
 "nbformat_minor": 2
}
